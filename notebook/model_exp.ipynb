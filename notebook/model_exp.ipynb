{
 "cells": [
  {
   "cell_type": "code",
   "execution_count": 32,
   "id": "c0eb90e0-fc67-4a75-bb02-6b2dc26f5ca3",
   "metadata": {},
   "outputs": [],
   "source": [
    "import pandas as pd\n",
    "import numpy as np\n",
    "from sklearn.linear_model import LogisticRegression,LogisticRegressionCV\n",
    "from sklearn.model_selection import GridSearchCV,train_test_split"
   ]
  },
  {
   "cell_type": "code",
   "execution_count": 8,
   "id": "fc9b88e1-b935-46f6-aafc-807fb80ebfcb",
   "metadata": {},
   "outputs": [],
   "source": [
    "train_dataset_path= r\"E:\\data science\\Projects\\US-VISA-APPROVAL-PREDICTION\\artifact\\17_08_2024_13_58_31\\data_transformation\\transformed_data\\training_data.npy\"\n",
    "test_dataset_path = r\"E:\\data science\\Projects\\US-VISA-APPROVAL-PREDICTION\\artifact\\17_08_2024_13_58_31\\data_transformation\\transformed_data\\test_data.npy\""
   ]
  },
  {
   "cell_type": "code",
   "execution_count": 10,
   "id": "114822f2-32c5-45cc-9ef3-13bca7e356ac",
   "metadata": {},
   "outputs": [],
   "source": [
    "train_df = np.load(train_dataset_path)\n",
    "test_df = np.load(test_dataset_path)"
   ]
  },
  {
   "cell_type": "code",
   "execution_count": 34,
   "id": "11e20084-94b0-4b51-944d-c70b643af39d",
   "metadata": {},
   "outputs": [],
   "source": [
    "train_df,test_df,y_train_df,y_test_df = train_df[:,:-1], test_df[:,:-1], train_df[:,-1], test_df[:,-1]"
   ]
  },
  {
   "cell_type": "code",
   "execution_count": 38,
   "id": "36ad1492-005a-42b5-8d99-8c6eca0ed761",
   "metadata": {},
   "outputs": [],
   "source": [
    "X_train,X_test,y_train,y_test= train_test_split(train_df,y_train_df,test_size=0.25)"
   ]
  },
  {
   "cell_type": "code",
   "execution_count": 48,
   "id": "fae75ba8-947c-4a6a-9468-1734f5fda4d0",
   "metadata": {},
   "outputs": [
    {
     "name": "stdout",
     "output_type": "stream",
     "text": [
      "0.840500310109572\n",
      "0.8269767441860465\n"
     ]
    }
   ],
   "source": [
    "lg_model = LogisticRegression()\n",
    "lg_model.fit(X_train,y_train)\n",
    "print(lg_model.score(X_train,y_train))\n",
    "print(lg_model.score(X_test,y_test))"
   ]
  },
  {
   "cell_type": "code",
   "execution_count": 42,
   "id": "940581eb-152b-4025-bb27-fdf2726724ea",
   "metadata": {},
   "outputs": [
    {
     "data": {
      "text/plain": [
       "array([1., 0., 0., ..., 0., 1., 1.])"
      ]
     },
     "execution_count": 42,
     "metadata": {},
     "output_type": "execute_result"
    }
   ],
   "source": [
    "y_pred = lg_model.predict(X_test)\n",
    "y_pred"
   ]
  },
  {
   "cell_type": "code",
   "execution_count": 44,
   "id": "5c8c3c84-2343-44aa-bf49-86c12e65cf29",
   "metadata": {},
   "outputs": [
    {
     "data": {
      "text/plain": [
       "array([[0.20200091, 0.79799909],\n",
       "       [0.91401522, 0.08598478],\n",
       "       [0.77275277, 0.22724723],\n",
       "       ...,\n",
       "       [0.63630593, 0.36369407],\n",
       "       [0.09872768, 0.90127232],\n",
       "       [0.10425749, 0.89574251]])"
      ]
     },
     "execution_count": 44,
     "metadata": {},
     "output_type": "execute_result"
    }
   ],
   "source": [
    "y_pred_proba = lg_model.predict_proba(X_test)\n",
    "y_pred_proba"
   ]
  },
  {
   "cell_type": "code",
   "execution_count": 68,
   "id": "95f7958b-4b14-4fc3-8e6a-f663956d6aa8",
   "metadata": {},
   "outputs": [
    {
     "name": "stdout",
     "output_type": "stream",
     "text": [
      "0.8403969402522224\n",
      "0.8269767441860465\n"
     ]
    },
    {
     "name": "stderr",
     "output_type": "stream",
     "text": [
      "C:\\Users\\RAVEEN\\anaconda3\\Lib\\site-packages\\sklearn\\linear_model\\_sag.py:350: ConvergenceWarning: The max_iter was reached which means the coef_ did not converge\n",
      "  warnings.warn(\n"
     ]
    }
   ],
   "source": [
    "lg_model = LogisticRegression(penalty='elasticnet',solver='saga',l1_ratio=0.5) # elasticnet only supported by saga check documentation\n",
    "lg_model.fit(X_train,y_train)\n",
    "print(lg_model.score(X_train,y_train))\n",
    "print(lg_model.score(X_test,y_test))"
   ]
  },
  {
   "cell_type": "code",
   "execution_count": 70,
   "id": "52faebb1-61d0-4353-a92c-83d5edb3ff24",
   "metadata": {},
   "outputs": [
    {
     "name": "stdout",
     "output_type": "stream",
     "text": [
      "0.8400868306801736\n",
      "0.8269767441860465\n"
     ]
    }
   ],
   "source": [
    "lg_model = LogisticRegression(penalty='l1',solver='liblinear') # elasticnet only supported by saga check documentation\n",
    "lg_model.fit(X_train,y_train)\n",
    "print(lg_model.score(X_train,y_train))\n",
    "print(lg_model.score(X_test,y_test))"
   ]
  },
  {
   "cell_type": "code",
   "execution_count": 90,
   "id": "f9fcc797-c8da-42ff-8217-29938ff118a1",
   "metadata": {},
   "outputs": [
    {
     "name": "stdout",
     "output_type": "stream",
     "text": [
      "0.835641926814141\n",
      "0.8121114437025098\n"
     ]
    }
   ],
   "source": [
    "lg_model = LogisticRegression(penalty='l1',solver='liblinear',C=0.01) # elasticnet only supported by saga check documentation\n",
    "lg_model.fit(X_train,y_train)\n",
    "print(lg_model.score(X_train,y_train))\n",
    "print(lg_model.score(test_df,y_test_df))"
   ]
  },
  {
   "cell_type": "code",
   "execution_count": 94,
   "id": "67765109-8128-4326-85ee-97790f80e95f",
   "metadata": {},
   "outputs": [],
   "source": [
    "logreg_cv = LogisticRegressionCV(\n",
    "    Cs=[0.2,0.5,1,5,10],               # Number of values for C to try (or an array of C values)\n",
    "    cv=5,                # Number of cross-validation folds\n",
    "    penalty='l2',        # Type of regularization ('l1', 'l2', 'elasticnet')\n",
    "    solver='lbfgs',      # Optimization algorithm\n",
    "    scoring='accuracy',  # Scoring metric to optimize\n",
    "    max_iter=1000,       # Maximum number of iterations\n",
    "    random_state=42,     # Random state for reproducibility\n",
    "    multi_class='auto'   # Automatically selects between 'ovr' and 'multinomial'\n",
    ")"
   ]
  },
  {
   "cell_type": "code",
   "execution_count": 129,
   "id": "58d1946a-ec16-45cb-a55d-0ea7142a2e2f",
   "metadata": {},
   "outputs": [
    {
     "name": "stdout",
     "output_type": "stream",
     "text": [
      "0.8401902005375232\n",
      "0.826046511627907\n",
      "0.8098088878655307\n"
     ]
    }
   ],
   "source": [
    "logreg_cv.fit(X_train,y_train)\n",
    "print(logreg_cv.score(X_train,y_train))\n",
    "print(logreg_cv.score(X_test,y_test))\n",
    "print(logreg_cv.score(test_df,y_test_df))"
   ]
  },
  {
   "cell_type": "code",
   "execution_count": 123,
   "id": "40ceb2ff-b69e-4e97-a56d-db4c28218b1b",
   "metadata": {},
   "outputs": [],
   "source": [
    "from sklearn.svm import SVC,LinearSVC,NuSVC"
   ]
  },
  {
   "cell_type": "markdown",
   "id": "f9125aa3-2e5d-41fb-b3fc-b63673206f2d",
   "metadata": {},
   "source": [
    "##### SVM"
   ]
  },
  {
   "cell_type": "code",
   "execution_count": 102,
   "id": "0d140042-91c9-4e74-9505-0169b5912376",
   "metadata": {},
   "outputs": [
    {
     "name": "stdout",
     "output_type": "stream",
     "text": [
      "0.8545586107091172\n",
      "0.8072760764448538\n"
     ]
    }
   ],
   "source": [
    "svc = SVC()\n",
    "svc.fit(X_train,y_train)\n",
    "print(svc.score(X_train,y_train))\n",
    "print(svc.score(test_df,y_test_df))"
   ]
  },
  {
   "cell_type": "code",
   "execution_count": 115,
   "id": "28bad327-a6ab-4627-b998-b7c9543dee67",
   "metadata": {},
   "outputs": [
    {
     "name": "stdout",
     "output_type": "stream",
     "text": [
      "0.8170353524912135\n",
      "0.78240847340548\n"
     ]
    }
   ],
   "source": [
    "svc = SVC(C=0.01)\n",
    "svc.fit(X_train,y_train)\n",
    "print(svc.score(X_train,y_train))\n",
    "print(svc.score(test_df,y_test_df))"
   ]
  },
  {
   "cell_type": "code",
   "execution_count": 116,
   "id": "64a8d682-b7a3-4d29-9bb4-1d79787921be",
   "metadata": {},
   "outputs": [
    {
     "name": "stdout",
     "output_type": "stream",
     "text": [
      "0.8386396526772794\n",
      "0.8063550541100621\n"
     ]
    }
   ],
   "source": [
    "svc = LinearSVC(max_iter=25000,dual='auto')\n",
    "svc.fit(X_train,y_train)\n",
    "print(svc.score(X_train,y_train))\n",
    "print(svc.score(test_df,y_test_df))"
   ]
  },
  {
   "cell_type": "code",
   "execution_count": 121,
   "id": "9b174c74-2e4b-4e17-bb57-768a9216aa7d",
   "metadata": {},
   "outputs": [
    {
     "name": "stdout",
     "output_type": "stream",
     "text": [
      "0.8283026669423196\n",
      "0.7959935528436565\n"
     ]
    }
   ],
   "source": [
    "svc = SVC(kernel='linear')\n",
    "svc.fit(X_train,y_train)\n",
    "print(svc.score(X_train,y_train))\n",
    "print(svc.score(test_df,y_test_df))"
   ]
  },
  {
   "cell_type": "code",
   "execution_count": 127,
   "id": "d68d4243-9010-43df-bd20-9bb260b5ee64",
   "metadata": {},
   "outputs": [
    {
     "name": "stdout",
     "output_type": "stream",
     "text": [
      "0.846909241265247\n",
      "0.8418604651162791\n",
      "0.8056642873589684\n"
     ]
    }
   ],
   "source": [
    "svc = NuSVC()\n",
    "svc.fit(X_train,y_train)\n",
    "print(svc.score(X_train,y_train))\n",
    "print(svc.score(X_test,y_test))\n",
    "print(svc.score(test_df,y_test_df))\n"
   ]
  },
  {
   "cell_type": "code",
   "execution_count": null,
   "id": "08865e6f-0a9e-48ab-a7a2-39d40079a754",
   "metadata": {},
   "outputs": [],
   "source": []
  }
 ],
 "metadata": {
  "kernelspec": {
   "display_name": "Python 3 (ipykernel)",
   "language": "python",
   "name": "python3"
  },
  "language_info": {
   "codemirror_mode": {
    "name": "ipython",
    "version": 3
   },
   "file_extension": ".py",
   "mimetype": "text/x-python",
   "name": "python",
   "nbconvert_exporter": "python",
   "pygments_lexer": "ipython3",
   "version": "3.12.4"
  }
 },
 "nbformat": 4,
 "nbformat_minor": 5
}
